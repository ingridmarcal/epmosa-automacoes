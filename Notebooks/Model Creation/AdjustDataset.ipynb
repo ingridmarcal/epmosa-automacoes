{
 "cells": [
  {
   "cell_type": "code",
   "execution_count": 1,
   "metadata": {
    "collapsed": true
   },
   "outputs": [
    {
     "data": {
      "text/plain": "                                                name  \\\n0  src/test/org/apache/commons/cli/HelpFormatterE...   \n1       src/java/org/apache/commons/cli/Options.java   \n2  src/java/org/apache/commons/cli/HelpFormatter....   \n3  src/java/org/apache/commons/cli/MissingArgumen...   \n4  src/java/org/apache/commons/cli/UnrecognizedOp...   \n\n                                     commit  number_of_authors  age  \\\n0  aae50c585ec3ac33c6a9af792e80378904a73195                  1    0   \n1  aae50c585ec3ac33c6a9af792e80378904a73195                  1    0   \n2  aae50c585ec3ac33c6a9af792e80378904a73195                  1    0   \n3  aae50c585ec3ac33c6a9af792e80378904a73195                  1    0   \n4  aae50c585ec3ac33c6a9af792e80378904a73195                  1    0   \n\n   number_unique_changes  size  lines_added  lines_deleted  buggy  \n0                      1   118          106              0      0  \n1                      1   686          685              0      0  \n2                      1   342          337              0      0  \n3                      1    80           79              0      0  \n4                      1    81           80              0      0  ",
      "text/html": "<div>\n<style scoped>\n    .dataframe tbody tr th:only-of-type {\n        vertical-align: middle;\n    }\n\n    .dataframe tbody tr th {\n        vertical-align: top;\n    }\n\n    .dataframe thead th {\n        text-align: right;\n    }\n</style>\n<table border=\"1\" class=\"dataframe\">\n  <thead>\n    <tr style=\"text-align: right;\">\n      <th></th>\n      <th>name</th>\n      <th>commit</th>\n      <th>number_of_authors</th>\n      <th>age</th>\n      <th>number_unique_changes</th>\n      <th>size</th>\n      <th>lines_added</th>\n      <th>lines_deleted</th>\n      <th>buggy</th>\n    </tr>\n  </thead>\n  <tbody>\n    <tr>\n      <th>0</th>\n      <td>src/test/org/apache/commons/cli/HelpFormatterE...</td>\n      <td>aae50c585ec3ac33c6a9af792e80378904a73195</td>\n      <td>1</td>\n      <td>0</td>\n      <td>1</td>\n      <td>118</td>\n      <td>106</td>\n      <td>0</td>\n      <td>0</td>\n    </tr>\n    <tr>\n      <th>1</th>\n      <td>src/java/org/apache/commons/cli/Options.java</td>\n      <td>aae50c585ec3ac33c6a9af792e80378904a73195</td>\n      <td>1</td>\n      <td>0</td>\n      <td>1</td>\n      <td>686</td>\n      <td>685</td>\n      <td>0</td>\n      <td>0</td>\n    </tr>\n    <tr>\n      <th>2</th>\n      <td>src/java/org/apache/commons/cli/HelpFormatter....</td>\n      <td>aae50c585ec3ac33c6a9af792e80378904a73195</td>\n      <td>1</td>\n      <td>0</td>\n      <td>1</td>\n      <td>342</td>\n      <td>337</td>\n      <td>0</td>\n      <td>0</td>\n    </tr>\n    <tr>\n      <th>3</th>\n      <td>src/java/org/apache/commons/cli/MissingArgumen...</td>\n      <td>aae50c585ec3ac33c6a9af792e80378904a73195</td>\n      <td>1</td>\n      <td>0</td>\n      <td>1</td>\n      <td>80</td>\n      <td>79</td>\n      <td>0</td>\n      <td>0</td>\n    </tr>\n    <tr>\n      <th>4</th>\n      <td>src/java/org/apache/commons/cli/UnrecognizedOp...</td>\n      <td>aae50c585ec3ac33c6a9af792e80378904a73195</td>\n      <td>1</td>\n      <td>0</td>\n      <td>1</td>\n      <td>81</td>\n      <td>80</td>\n      <td>0</td>\n      <td>0</td>\n    </tr>\n  </tbody>\n</table>\n</div>"
     },
     "execution_count": 1,
     "metadata": {},
     "output_type": "execute_result"
    }
   ],
   "source": [
    "import pandas as pd\n",
    "import scores as scores\n",
    "from imblearn.over_sampling import RandomOverSampler\n",
    "from imblearn.over_sampling import SMOTE\n",
    "from sklearn.model_selection import train_test_split\n",
    "from sklearn.ensemble import RandomForestClassifier\n",
    "from sklearn.metrics import accuracy_score, precision_score, recall_score, f1_score\n",
    "\n",
    "df = pd.read_csv ('raw_dataset.csv')\n",
    "df.head()"
   ]
  },
  {
   "cell_type": "code",
   "execution_count": 2,
   "outputs": [
    {
     "data": {
      "text/plain": "      number_of_authors     age  number_unique_changes  size  lines_added  \\\n0                     1       0                      1   118          106   \n1                     1       0                      1   686          685   \n2                     1       0                      1   342          337   \n3                     1       0                      1    80           79   \n4                     1       0                      1    81           80   \n...                 ...     ...                    ...   ...          ...   \n1543                 10  547258                     45   777            2   \n1544                  9  608767                     35   334            2   \n1545                  8  675352                     49   939            1   \n1546                  8  702291                     19   193            0   \n1547                  8  698505                     29   358            1   \n\n      lines_deleted  buggy                                    class_commit_id  \n0                 0      0  src/test/org/apache/commons/cli/HelpFormatterE...  \n1                 0      0  src/java/org/apache/commons/cli/Options.java_a...  \n2                 0      0  src/java/org/apache/commons/cli/HelpFormatter....  \n3                 0      0  src/java/org/apache/commons/cli/MissingArgumen...  \n4                 0      0  src/java/org/apache/commons/cli/UnrecognizedOp...  \n...             ...    ...                                                ...  \n1543              2      0  src/main/java/org/apache/commons/cli/DefaultPa...  \n1544              5      0  src/main/java/org/apache/commons/cli/Options.j...  \n1545              1      0  src/main/java/org/apache/commons/cli/HelpForma...  \n1546              1      0  src/main/java/org/apache/commons/cli/PatternOp...  \n1547              1      0  src/main/java/org/apache/commons/cli/OptionBui...  \n\n[1548 rows x 8 columns]",
      "text/html": "<div>\n<style scoped>\n    .dataframe tbody tr th:only-of-type {\n        vertical-align: middle;\n    }\n\n    .dataframe tbody tr th {\n        vertical-align: top;\n    }\n\n    .dataframe thead th {\n        text-align: right;\n    }\n</style>\n<table border=\"1\" class=\"dataframe\">\n  <thead>\n    <tr style=\"text-align: right;\">\n      <th></th>\n      <th>number_of_authors</th>\n      <th>age</th>\n      <th>number_unique_changes</th>\n      <th>size</th>\n      <th>lines_added</th>\n      <th>lines_deleted</th>\n      <th>buggy</th>\n      <th>class_commit_id</th>\n    </tr>\n  </thead>\n  <tbody>\n    <tr>\n      <th>0</th>\n      <td>1</td>\n      <td>0</td>\n      <td>1</td>\n      <td>118</td>\n      <td>106</td>\n      <td>0</td>\n      <td>0</td>\n      <td>src/test/org/apache/commons/cli/HelpFormatterE...</td>\n    </tr>\n    <tr>\n      <th>1</th>\n      <td>1</td>\n      <td>0</td>\n      <td>1</td>\n      <td>686</td>\n      <td>685</td>\n      <td>0</td>\n      <td>0</td>\n      <td>src/java/org/apache/commons/cli/Options.java_a...</td>\n    </tr>\n    <tr>\n      <th>2</th>\n      <td>1</td>\n      <td>0</td>\n      <td>1</td>\n      <td>342</td>\n      <td>337</td>\n      <td>0</td>\n      <td>0</td>\n      <td>src/java/org/apache/commons/cli/HelpFormatter....</td>\n    </tr>\n    <tr>\n      <th>3</th>\n      <td>1</td>\n      <td>0</td>\n      <td>1</td>\n      <td>80</td>\n      <td>79</td>\n      <td>0</td>\n      <td>0</td>\n      <td>src/java/org/apache/commons/cli/MissingArgumen...</td>\n    </tr>\n    <tr>\n      <th>4</th>\n      <td>1</td>\n      <td>0</td>\n      <td>1</td>\n      <td>81</td>\n      <td>80</td>\n      <td>0</td>\n      <td>0</td>\n      <td>src/java/org/apache/commons/cli/UnrecognizedOp...</td>\n    </tr>\n    <tr>\n      <th>...</th>\n      <td>...</td>\n      <td>...</td>\n      <td>...</td>\n      <td>...</td>\n      <td>...</td>\n      <td>...</td>\n      <td>...</td>\n      <td>...</td>\n    </tr>\n    <tr>\n      <th>1543</th>\n      <td>10</td>\n      <td>547258</td>\n      <td>45</td>\n      <td>777</td>\n      <td>2</td>\n      <td>2</td>\n      <td>0</td>\n      <td>src/main/java/org/apache/commons/cli/DefaultPa...</td>\n    </tr>\n    <tr>\n      <th>1544</th>\n      <td>9</td>\n      <td>608767</td>\n      <td>35</td>\n      <td>334</td>\n      <td>2</td>\n      <td>5</td>\n      <td>0</td>\n      <td>src/main/java/org/apache/commons/cli/Options.j...</td>\n    </tr>\n    <tr>\n      <th>1545</th>\n      <td>8</td>\n      <td>675352</td>\n      <td>49</td>\n      <td>939</td>\n      <td>1</td>\n      <td>1</td>\n      <td>0</td>\n      <td>src/main/java/org/apache/commons/cli/HelpForma...</td>\n    </tr>\n    <tr>\n      <th>1546</th>\n      <td>8</td>\n      <td>702291</td>\n      <td>19</td>\n      <td>193</td>\n      <td>0</td>\n      <td>1</td>\n      <td>0</td>\n      <td>src/main/java/org/apache/commons/cli/PatternOp...</td>\n    </tr>\n    <tr>\n      <th>1547</th>\n      <td>8</td>\n      <td>698505</td>\n      <td>29</td>\n      <td>358</td>\n      <td>1</td>\n      <td>1</td>\n      <td>0</td>\n      <td>src/main/java/org/apache/commons/cli/OptionBui...</td>\n    </tr>\n  </tbody>\n</table>\n<p>1548 rows × 8 columns</p>\n</div>"
     },
     "execution_count": 2,
     "metadata": {},
     "output_type": "execute_result"
    }
   ],
   "source": [
    "df['class_commit_id'] = df['name'] + \"_\" + df['commit']\n",
    "df.drop(df.columns[[0, 1]], axis=1, inplace=True)\n",
    "df.drop_duplicates(inplace=True)\n",
    "df"
   ],
   "metadata": {
    "collapsed": false
   }
  },
  {
   "cell_type": "code",
   "execution_count": 3,
   "outputs": [
    {
     "data": {
      "text/plain": "      number_of_authors     age  number_unique_changes  size  lines_added  \\\n0                     1       0                      1   118          106   \n1                     1       0                      1   686          685   \n2                     1       0                      1   342          337   \n3                     1       0                      1    80           79   \n4                     1       0                      1    81           80   \n...                 ...     ...                    ...   ...          ...   \n1543                 10  547258                     45   777            2   \n1544                  9  608767                     35   334            2   \n1545                  8  675352                     49   939            1   \n1546                  8  702291                     19   193            0   \n1547                  8  698505                     29   358            1   \n\n      lines_deleted  buggy                                    class_commit_id  \\\n0                 0      0  src/test/org/apache/commons/cli/HelpFormatterE...   \n1                 0      0  src/java/org/apache/commons/cli/Options.java_a...   \n2                 0      0  src/java/org/apache/commons/cli/HelpFormatter....   \n3                 0      0  src/java/org/apache/commons/cli/MissingArgumen...   \n4                 0      0  src/java/org/apache/commons/cli/UnrecognizedOp...   \n...             ...    ...                                                ...   \n1543              2      0  src/main/java/org/apache/commons/cli/DefaultPa...   \n1544              5      0  src/main/java/org/apache/commons/cli/Options.j...   \n1545              1      0  src/main/java/org/apache/commons/cli/HelpForma...   \n1546              1      0  src/main/java/org/apache/commons/cli/PatternOp...   \n1547              1      0  src/main/java/org/apache/commons/cli/OptionBui...   \n\n        id  \n0     1534  \n1      321  \n2      158  \n3      182  \n4      475  \n...    ...  \n1543  1109  \n1544  1346  \n1545  1151  \n1546  1423  \n1547  1278  \n\n[1548 rows x 9 columns]",
      "text/html": "<div>\n<style scoped>\n    .dataframe tbody tr th:only-of-type {\n        vertical-align: middle;\n    }\n\n    .dataframe tbody tr th {\n        vertical-align: top;\n    }\n\n    .dataframe thead th {\n        text-align: right;\n    }\n</style>\n<table border=\"1\" class=\"dataframe\">\n  <thead>\n    <tr style=\"text-align: right;\">\n      <th></th>\n      <th>number_of_authors</th>\n      <th>age</th>\n      <th>number_unique_changes</th>\n      <th>size</th>\n      <th>lines_added</th>\n      <th>lines_deleted</th>\n      <th>buggy</th>\n      <th>class_commit_id</th>\n      <th>id</th>\n    </tr>\n  </thead>\n  <tbody>\n    <tr>\n      <th>0</th>\n      <td>1</td>\n      <td>0</td>\n      <td>1</td>\n      <td>118</td>\n      <td>106</td>\n      <td>0</td>\n      <td>0</td>\n      <td>src/test/org/apache/commons/cli/HelpFormatterE...</td>\n      <td>1534</td>\n    </tr>\n    <tr>\n      <th>1</th>\n      <td>1</td>\n      <td>0</td>\n      <td>1</td>\n      <td>686</td>\n      <td>685</td>\n      <td>0</td>\n      <td>0</td>\n      <td>src/java/org/apache/commons/cli/Options.java_a...</td>\n      <td>321</td>\n    </tr>\n    <tr>\n      <th>2</th>\n      <td>1</td>\n      <td>0</td>\n      <td>1</td>\n      <td>342</td>\n      <td>337</td>\n      <td>0</td>\n      <td>0</td>\n      <td>src/java/org/apache/commons/cli/HelpFormatter....</td>\n      <td>158</td>\n    </tr>\n    <tr>\n      <th>3</th>\n      <td>1</td>\n      <td>0</td>\n      <td>1</td>\n      <td>80</td>\n      <td>79</td>\n      <td>0</td>\n      <td>0</td>\n      <td>src/java/org/apache/commons/cli/MissingArgumen...</td>\n      <td>182</td>\n    </tr>\n    <tr>\n      <th>4</th>\n      <td>1</td>\n      <td>0</td>\n      <td>1</td>\n      <td>81</td>\n      <td>80</td>\n      <td>0</td>\n      <td>0</td>\n      <td>src/java/org/apache/commons/cli/UnrecognizedOp...</td>\n      <td>475</td>\n    </tr>\n    <tr>\n      <th>...</th>\n      <td>...</td>\n      <td>...</td>\n      <td>...</td>\n      <td>...</td>\n      <td>...</td>\n      <td>...</td>\n      <td>...</td>\n      <td>...</td>\n      <td>...</td>\n    </tr>\n    <tr>\n      <th>1543</th>\n      <td>10</td>\n      <td>547258</td>\n      <td>45</td>\n      <td>777</td>\n      <td>2</td>\n      <td>2</td>\n      <td>0</td>\n      <td>src/main/java/org/apache/commons/cli/DefaultPa...</td>\n      <td>1109</td>\n    </tr>\n    <tr>\n      <th>1544</th>\n      <td>9</td>\n      <td>608767</td>\n      <td>35</td>\n      <td>334</td>\n      <td>2</td>\n      <td>5</td>\n      <td>0</td>\n      <td>src/main/java/org/apache/commons/cli/Options.j...</td>\n      <td>1346</td>\n    </tr>\n    <tr>\n      <th>1545</th>\n      <td>8</td>\n      <td>675352</td>\n      <td>49</td>\n      <td>939</td>\n      <td>1</td>\n      <td>1</td>\n      <td>0</td>\n      <td>src/main/java/org/apache/commons/cli/HelpForma...</td>\n      <td>1151</td>\n    </tr>\n    <tr>\n      <th>1546</th>\n      <td>8</td>\n      <td>702291</td>\n      <td>19</td>\n      <td>193</td>\n      <td>0</td>\n      <td>1</td>\n      <td>0</td>\n      <td>src/main/java/org/apache/commons/cli/PatternOp...</td>\n      <td>1423</td>\n    </tr>\n    <tr>\n      <th>1547</th>\n      <td>8</td>\n      <td>698505</td>\n      <td>29</td>\n      <td>358</td>\n      <td>1</td>\n      <td>1</td>\n      <td>0</td>\n      <td>src/main/java/org/apache/commons/cli/OptionBui...</td>\n      <td>1278</td>\n    </tr>\n  </tbody>\n</table>\n<p>1548 rows × 9 columns</p>\n</div>"
     },
     "execution_count": 3,
     "metadata": {},
     "output_type": "execute_result"
    }
   ],
   "source": [
    "df['id'] = pd.Categorical(df['class_commit_id']).codes\n",
    "df"
   ],
   "metadata": {
    "collapsed": false
   }
  },
  {
   "cell_type": "code",
   "execution_count": 4,
   "outputs": [
    {
     "data": {
      "text/plain": "      number_of_authors     age  number_unique_changes  size  lines_added  \\\n0                     1       0                      1   118          106   \n1                     1       0                      1   686          685   \n2                     1       0                      1   342          337   \n3                     1       0                      1    80           79   \n4                     1       0                      1    81           80   \n...                 ...     ...                    ...   ...          ...   \n1543                 10  547258                     45   777            2   \n1544                  9  608767                     35   334            2   \n1545                  8  675352                     49   939            1   \n1546                  8  702291                     19   193            0   \n1547                  8  698505                     29   358            1   \n\n      lines_deleted  buggy    id  \n0                 0      0  1534  \n1                 0      0   321  \n2                 0      0   158  \n3                 0      0   182  \n4                 0      0   475  \n...             ...    ...   ...  \n1543              2      0  1109  \n1544              5      0  1346  \n1545              1      0  1151  \n1546              1      0  1423  \n1547              1      0  1278  \n\n[1548 rows x 8 columns]",
      "text/html": "<div>\n<style scoped>\n    .dataframe tbody tr th:only-of-type {\n        vertical-align: middle;\n    }\n\n    .dataframe tbody tr th {\n        vertical-align: top;\n    }\n\n    .dataframe thead th {\n        text-align: right;\n    }\n</style>\n<table border=\"1\" class=\"dataframe\">\n  <thead>\n    <tr style=\"text-align: right;\">\n      <th></th>\n      <th>number_of_authors</th>\n      <th>age</th>\n      <th>number_unique_changes</th>\n      <th>size</th>\n      <th>lines_added</th>\n      <th>lines_deleted</th>\n      <th>buggy</th>\n      <th>id</th>\n    </tr>\n  </thead>\n  <tbody>\n    <tr>\n      <th>0</th>\n      <td>1</td>\n      <td>0</td>\n      <td>1</td>\n      <td>118</td>\n      <td>106</td>\n      <td>0</td>\n      <td>0</td>\n      <td>1534</td>\n    </tr>\n    <tr>\n      <th>1</th>\n      <td>1</td>\n      <td>0</td>\n      <td>1</td>\n      <td>686</td>\n      <td>685</td>\n      <td>0</td>\n      <td>0</td>\n      <td>321</td>\n    </tr>\n    <tr>\n      <th>2</th>\n      <td>1</td>\n      <td>0</td>\n      <td>1</td>\n      <td>342</td>\n      <td>337</td>\n      <td>0</td>\n      <td>0</td>\n      <td>158</td>\n    </tr>\n    <tr>\n      <th>3</th>\n      <td>1</td>\n      <td>0</td>\n      <td>1</td>\n      <td>80</td>\n      <td>79</td>\n      <td>0</td>\n      <td>0</td>\n      <td>182</td>\n    </tr>\n    <tr>\n      <th>4</th>\n      <td>1</td>\n      <td>0</td>\n      <td>1</td>\n      <td>81</td>\n      <td>80</td>\n      <td>0</td>\n      <td>0</td>\n      <td>475</td>\n    </tr>\n    <tr>\n      <th>...</th>\n      <td>...</td>\n      <td>...</td>\n      <td>...</td>\n      <td>...</td>\n      <td>...</td>\n      <td>...</td>\n      <td>...</td>\n      <td>...</td>\n    </tr>\n    <tr>\n      <th>1543</th>\n      <td>10</td>\n      <td>547258</td>\n      <td>45</td>\n      <td>777</td>\n      <td>2</td>\n      <td>2</td>\n      <td>0</td>\n      <td>1109</td>\n    </tr>\n    <tr>\n      <th>1544</th>\n      <td>9</td>\n      <td>608767</td>\n      <td>35</td>\n      <td>334</td>\n      <td>2</td>\n      <td>5</td>\n      <td>0</td>\n      <td>1346</td>\n    </tr>\n    <tr>\n      <th>1545</th>\n      <td>8</td>\n      <td>675352</td>\n      <td>49</td>\n      <td>939</td>\n      <td>1</td>\n      <td>1</td>\n      <td>0</td>\n      <td>1151</td>\n    </tr>\n    <tr>\n      <th>1546</th>\n      <td>8</td>\n      <td>702291</td>\n      <td>19</td>\n      <td>193</td>\n      <td>0</td>\n      <td>1</td>\n      <td>0</td>\n      <td>1423</td>\n    </tr>\n    <tr>\n      <th>1547</th>\n      <td>8</td>\n      <td>698505</td>\n      <td>29</td>\n      <td>358</td>\n      <td>1</td>\n      <td>1</td>\n      <td>0</td>\n      <td>1278</td>\n    </tr>\n  </tbody>\n</table>\n<p>1548 rows × 8 columns</p>\n</div>"
     },
     "execution_count": 4,
     "metadata": {},
     "output_type": "execute_result"
    }
   ],
   "source": [
    "df2 = df.drop(['class_commit_id'], axis=1)\n",
    "df2"
   ],
   "metadata": {
    "collapsed": false
   }
  },
  {
   "cell_type": "code",
   "execution_count": 8,
   "outputs": [],
   "source": [
    "import csv\n",
    "\n",
    "# name of csv file\n",
    "filename = \"dataset.csv\"\n",
    "\n",
    "# writing to csv file\n",
    "# writing to csv file\n",
    "df2.to_csv(filename, index=False)"
   ],
   "metadata": {
    "collapsed": false
   }
  },
  {
   "cell_type": "code",
   "execution_count": null,
   "outputs": [],
   "source": [],
   "metadata": {
    "collapsed": false
   }
  }
 ],
 "metadata": {
  "kernelspec": {
   "display_name": "Python 3",
   "language": "python",
   "name": "python3"
  },
  "language_info": {
   "codemirror_mode": {
    "name": "ipython",
    "version": 2
   },
   "file_extension": ".py",
   "mimetype": "text/x-python",
   "name": "python",
   "nbconvert_exporter": "python",
   "pygments_lexer": "ipython2",
   "version": "2.7.6"
  }
 },
 "nbformat": 4,
 "nbformat_minor": 0
}
